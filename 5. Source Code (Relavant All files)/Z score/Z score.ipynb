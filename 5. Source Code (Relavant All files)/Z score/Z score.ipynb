{
 "cells": [
  {
   "cell_type": "code",
   "execution_count": 1,
   "id": "d33861a4-e5a6-4ae1-b65c-cc89ecf5a752",
   "metadata": {},
   "outputs": [
    {
     "name": "stdout",
     "output_type": "stream",
     "text": [
      "[102, 107, 108, 109, 123]\n"
     ]
    }
   ],
   "source": [
    "import numpy as np\n",
    "import matplotlib.pyplot as plt\n",
    "\n",
    "dataset = [11, 10, 12, 14, 12, 15, 14, 13, 15, 102, 12, 14, 17, 19, 107, 10, 13, 12, 14, 12, 108, 12, 11, 14, 13, 15,\n",
    "           10, 15, 12, 10, 14, 13, 15, 10, 109, 123]\n",
    "outliers = []\n",
    "threshold = 2\n",
    "mean = np.mean(dataset)\n",
    "std = np.std(dataset)\n",
    "for i in dataset:\n",
    "    z_score = (i - mean) / std\n",
    "    if np.abs(z_score) > threshold:\n",
    "        outliers.append(i)\n",
    "print(outliers)\n",
    "    "
   ]
  },
  {
   "cell_type": "code",
   "execution_count": null,
   "id": "ba49387d-4ddb-4b1a-836d-aea4daeb2e06",
   "metadata": {},
   "outputs": [],
   "source": []
  }
 ],
 "metadata": {
  "kernelspec": {
   "display_name": "Python 3 (ipykernel)",
   "language": "python",
   "name": "python3"
  },
  "language_info": {
   "codemirror_mode": {
    "name": "ipython",
    "version": 3
   },
   "file_extension": ".py",
   "mimetype": "text/x-python",
   "name": "python",
   "nbconvert_exporter": "python",
   "pygments_lexer": "ipython3",
   "version": "3.9.12"
  }
 },
 "nbformat": 4,
 "nbformat_minor": 5
}
